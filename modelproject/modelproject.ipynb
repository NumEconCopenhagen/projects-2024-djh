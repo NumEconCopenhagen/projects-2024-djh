{
 "cells": [
  {
   "cell_type": "markdown",
   "metadata": {},
   "source": [
    "# Stackelberg Economy"
   ]
  },
  {
   "cell_type": "markdown",
   "metadata": {},
   "source": [
    "Imports and set magics:"
   ]
  },
  {
   "cell_type": "code",
   "execution_count": 345,
   "metadata": {},
   "outputs": [
    {
     "name": "stdout",
     "output_type": "stream",
     "text": [
      "The autoreload extension is already loaded. To reload it, use:\n",
      "  %reload_ext autoreload\n"
     ]
    }
   ],
   "source": [
    "import numpy as np\n",
    "from scipy import optimize\n",
    "import sympy as sm\n",
    "import matplotlib.pyplot as plt\n",
    "import ipywidgets as widgets\n",
    "from ipywidgets import interact\n",
    "\n",
    "\n",
    "\n",
    "# autoreload modules when code is run\n",
    "%load_ext autoreload\n",
    "%autoreload 2\n",
    "\n",
    "# local modules\n",
    "import modelproject\n"
   ]
  },
  {
   "cell_type": "markdown",
   "metadata": {},
   "source": [
    "Once again I have been unable to get the py file to work. I dont know why this is. Thus, all functions are included in the notebook. I apologize for this"
   ]
  },
  {
   "cell_type": "markdown",
   "metadata": {},
   "source": [
    "# Model description"
   ]
  },
  {
   "cell_type": "markdown",
   "metadata": {},
   "source": [
    "I will be looking at a Stackelberg Economy where two firms compete by producing identical goods. To begin, Firm 1 chooses an amount q1. After observing q1, Firm 2 chooses an amount q2. The demand curve is linear and takes the form:\n",
    "\n",
    "$ p(q) = a - q $ \n",
    "\n",
    "where $ q = q1 + q2 $. Furthermore, $ p(q) = 0 $ for $ q > a $\n",
    "\n",
    "Each firm faces a marginal cost of $ c_i $\n",
    "\n",
    "Thus, each firm aims to maximize profit given by\n",
    "\n",
    "$ p(q) * q_i - c_i * q_i $\n"
   ]
  },
  {
   "cell_type": "markdown",
   "metadata": {},
   "source": [
    "## Analytical solution"
   ]
  },
  {
   "cell_type": "code",
   "execution_count": 346,
   "metadata": {},
   "outputs": [],
   "source": [
    "p = sm.symbols('p')\n",
    "q = sm.symbols('q')\n",
    "q1 = sm.symbols('q_1')\n",
    "q2 = sm.symbols('q_2')\n",
    "c1 = sm.symbols('c_1')\n",
    "c2 = sm.symbols('c_2')\n",
    "a = sm.symbols('a')\n",
    "s = sm.symbols('s')"
   ]
  },
  {
   "cell_type": "code",
   "execution_count": 347,
   "metadata": {},
   "outputs": [],
   "source": [
    "# Defining objective functions\n",
    "objective1 = p * q1 - c1 * q1\n",
    "objective2 = p * q2 - c2 * q2\n",
    "\n",
    "# Defining price function\n",
    "price_func = sm.Eq(p, a - q)\n",
    "\n",
    "# Defining total quantity function\n",
    "total_q = sm.Eq(q, q1 + q2)"
   ]
  },
  {
   "cell_type": "code",
   "execution_count": 348,
   "metadata": {},
   "outputs": [
    {
     "data": {
      "text/latex": [
       "$\\displaystyle \\frac{a}{2} - \\frac{c_{2}}{2} - \\frac{q_{1}}{2}$"
      ],
      "text/plain": [
       "a/2 - c_2/2 - q_1/2"
      ]
     },
     "execution_count": 348,
     "metadata": {},
     "output_type": "execute_result"
    }
   ],
   "source": [
    "# Substituting total quantity into the price function\n",
    "price_func1 = price_func.subs(q, total_q.rhs)\n",
    "\n",
    "# Subsituting the price function into firm 2's objective function\n",
    "objective2_sub = objective2.subs(p, price_func1.rhs)\n",
    "\n",
    "# Differentiating firm 2's objective function wrt q2\n",
    "foc2 = sm.diff(objective2_sub, q2)\n",
    "\n",
    "# Setting the FOC equal to 0 and solving for q2\n",
    "sol_q2 = sm.solve(sm.Eq(foc2, 0), q2)\n",
    "sol_q2[0]\n",
    "\n"
   ]
  },
  {
   "cell_type": "code",
   "execution_count": 349,
   "metadata": {},
   "outputs": [
    {
     "data": {
      "text/latex": [
       "$\\displaystyle \\frac{a}{2} - c_{1} + \\frac{c_{2}}{2}$"
      ],
      "text/plain": [
       "a/2 - c_1 + c_2/2"
      ]
     },
     "execution_count": 349,
     "metadata": {},
     "output_type": "execute_result"
    }
   ],
   "source": [
    "# Substituting the price function into firm 1's objective function\n",
    "objective1_sub = objective1.subs(p, price_func1.rhs)\n",
    "\n",
    "# Substituting firm 2's best response into firm 1's objective function\n",
    "objective1_sub2 = objective1_sub.subs(q2, sol_q2[0])\n",
    "\n",
    "# Differentiating firm 1's objective function wrt q1\n",
    "foc1 = sm.diff(objective1_sub2, q1)\n",
    "\n",
    "# Setting the FOC equal to 0 and solving for q1\n",
    "sol_q1 = sm.solve(sm.Eq(foc1, 0), q1)\n",
    "sol_q1[0]\n"
   ]
  },
  {
   "cell_type": "code",
   "execution_count": 350,
   "metadata": {},
   "outputs": [
    {
     "data": {
      "text/latex": [
       "$\\displaystyle \\frac{a}{4} + \\frac{c_{1}}{2} - \\frac{3 c_{2}}{4}$"
      ],
      "text/plain": [
       "a/4 + c_1/2 - 3*c_2/4"
      ]
     },
     "execution_count": 350,
     "metadata": {},
     "output_type": "execute_result"
    }
   ],
   "source": [
    "# Substituting q1 back into q2 to find firm 2's quantity independet of q1\n",
    "sol_q2_final = sol_q2[0].subs(q1, sol_q1[0])\n",
    "sol_q2_final\n"
   ]
  },
  {
   "cell_type": "code",
   "execution_count": 351,
   "metadata": {},
   "outputs": [
    {
     "data": {
      "text/latex": [
       "$\\displaystyle p = \\frac{a}{4} + \\frac{c_{1}}{2} + \\frac{c_{2}}{4}$"
      ],
      "text/plain": [
       "Eq(p, a/4 + c_1/2 + c_2/4)"
      ]
     },
     "execution_count": 351,
     "metadata": {},
     "output_type": "execute_result"
    }
   ],
   "source": [
    "# Subsituting q1 and q2 into the price function the get the market price\n",
    "price_func2 = price_func1.subs(q1, sol_q1[0])\n",
    "price_func3 = price_func2.subs(q2, sol_q2_final)\n",
    "price_func3\n",
    "\n"
   ]
  },
  {
   "cell_type": "markdown",
   "metadata": {},
   "source": [
    "## Numerical solution"
   ]
  },
  {
   "cell_type": "markdown",
   "metadata": {},
   "source": [
    "You can always solve a model numerically. \n",
    "\n",
    "Define first the set of parameters you need. \n",
    "\n",
    "Then choose one of the optimization algorithms that we have gone through in the lectures based on what you think is most fitting for your model.\n",
    "\n",
    "Are there any problems with convergence? Does the model converge for all starting values? Make a lot of testing to figure these things out. "
   ]
  },
  {
   "cell_type": "code",
   "execution_count": 352,
   "metadata": {},
   "outputs": [
    {
     "data": {
      "text/latex": [
       "$\\displaystyle - c_{2} q_{2} + q_{2} \\left(a - q_{1} - q_{2}\\right)$"
      ],
      "text/plain": [
       "-c_2*q_2 + q_2*(a - q_1 - q_2)"
      ]
     },
     "execution_count": 352,
     "metadata": {},
     "output_type": "execute_result"
    }
   ],
   "source": [
    "objective2_sub"
   ]
  },
  {
   "cell_type": "markdown",
   "metadata": {},
   "source": [
    "**Model-Solving Algorithm**"
   ]
  },
  {
   "cell_type": "code",
   "execution_count": 353,
   "metadata": {},
   "outputs": [],
   "source": [
    "#Define model-solving function\n",
    "def modelsolving(a, c1, c2):\n",
    "    # Define objective function\n",
    "    def objective_function1(q1, a, c1, c2):\n",
    "        return -(-c1*q1 + (q1/2) * (a + c2 - q1))\n",
    "\n",
    "    # Define an initial guess for q1\n",
    "    initial_guess_q1 = 2.0\n",
    "    bounds = [(0, None)]\n",
    "\n",
    "    # Call the minimize function\n",
    "    result_q1 = optimize.minimize(objective_function1, initial_guess_q1,\n",
    "                            args=(a, c1, c2),\n",
    "                            method='SLSQP',\n",
    "                            bounds=bounds,\n",
    "                            options={'disp': False})\n",
    "\n",
    "    # Print the result\n",
    "    #print(result_q1.x[0])\n",
    "    q1, pi1 = result_q1.x[0], -result_q1.fun\n",
    "\n",
    "    def objective_function2(q2, a, c1, c2, q1):\n",
    "        return -(-c2*q2 + q2*(a - q1 - q2))\n",
    "\n",
    "    result_q2 = optimize.minimize(objective_function2, initial_guess_q1,\n",
    "                            args=(a, c1, c2, q1),\n",
    "                            method='SLSQP',\n",
    "                            bounds=bounds,\n",
    "                            options={'disp': False})\n",
    "\n",
    "    print(result_q2)\n",
    "    q2, pi2 = result_q2.x[0], -result_q2.fun\n",
    "\n",
    "    return q1, q2, pi1, pi2\n",
    "\n"
   ]
  },
  {
   "cell_type": "code",
   "execution_count": 354,
   "metadata": {},
   "outputs": [
    {
     "name": "stdout",
     "output_type": "stream",
     "text": [
      " message: Optimization terminated successfully\n",
      " success: True\n",
      "  status: 0\n",
      "     fun: -9.0\n",
      "       x: [ 3.000e+00]\n",
      "     nit: 2\n",
      "     jac: [ 0.000e+00]\n",
      "    nfev: 5\n",
      "    njev: 2\n",
      "Firm 1 produces 4.0 units and has a profit of 8.0\n",
      "Firm 2 produces 3.0 units and has a profit of 9.0\n",
      "The price of one unit is 7.0\n"
     ]
    }
   ],
   "source": [
    "# Setting Parameters\n",
    "a = 14\n",
    "c1 = 5\n",
    "c2 = 4\n",
    "\n",
    "# Solving Model\n",
    "q1, q2, pi1, pi2 = modelsolving(a, c1, c2)\n",
    "price = a - q1 - q2\n",
    "\n",
    "print(f\"Firm 1 produces {q1} units and has a profit of {pi1}\")\n",
    "print(f\"Firm 2 produces {q2} units and has a profit of {pi2}\")\n",
    "print(f\"The price of one unit is {price}\")"
   ]
  },
  {
   "cell_type": "markdown",
   "metadata": {},
   "source": [
    "# Further analysis"
   ]
  },
  {
   "cell_type": "markdown",
   "metadata": {},
   "source": [
    "First, I will illustrate the model using bar graphs for quantity and profit"
   ]
  },
  {
   "cell_type": "code",
   "execution_count": 418,
   "metadata": {},
   "outputs": [
    {
     "data": {
      "application/vnd.jupyter.widget-view+json": {
       "model_id": "51f28df6f93e47b2bb9ba3e43dc2087f",
       "version_major": 2,
       "version_minor": 0
      },
      "text/plain": [
       "interactive(children=(FloatSlider(value=14.0, description='initial_a', max=20.0, step=1.0), FloatSlider(value=…"
      ]
     },
     "metadata": {},
     "output_type": "display_data"
    },
    {
     "data": {
      "text/plain": [
       "<function __main__.plot_quantity_bar_chart(initial_a, initial_c1, initial_c2)>"
      ]
     },
     "execution_count": 418,
     "metadata": {},
     "output_type": "execute_result"
    }
   ],
   "source": [
    "def plot_quantity_bar_chart(initial_a, initial_c1, initial_c2):\n",
    "    # Define initial values for a, c1, and c2\n",
    "    a = initial_a\n",
    "    c1 = initial_c1\n",
    "    c2 = initial_c2\n",
    "    \n",
    "    q1, q2, pi1, pi2 = modelsolving(a, c1, c2)\n",
    "    \n",
    "    fig, (ax1, ax2) = plt.subplots(1, 2, figsize=(12, 6))\n",
    "\n",
    "    # Plot the bar chart for quantities produced by Firm 1 and Firm 2\n",
    "    bars1 = ax1.bar(['Firm 1', 'Firm 2'], [q1, q2], color=['blue', 'green'])\n",
    "    ax1.set_ylabel('Quantity Produced')\n",
    "    ax1.set_title('Quantities Produced by Firm 1 and Firm 2')\n",
    "\n",
    "    # Add text labels on top of each bar in the quantity bar chart\n",
    "    for bar in bars1:\n",
    "        height = bar.get_height()\n",
    "        ax1.annotate(f'{height:.2f}', xy=(bar.get_x() + bar.get_width() / 2, height),\n",
    "                     xytext=(0, 3),  # 3 points vertical offset\n",
    "                     textcoords=\"offset points\",\n",
    "                     ha='center', va='bottom')\n",
    "        \n",
    "    # Plot the bar chart for profits of Firm 1 and Firm 2\n",
    "    bars2 = ax2.bar(['Firm 1', 'Firm 2'], [pi1, pi2], color=['blue', 'green'])\n",
    "    ax2.set_ylabel('Profit')\n",
    "    ax2.set_title('Profits of Firm 1 and Firm 2')\n",
    "\n",
    "    for bar in bars2:\n",
    "        height = bar.get_height()\n",
    "        ax2.annotate(f'{height:.2f}', xy=(bar.get_x() + bar.get_width() / 2, height),\n",
    "                     xytext=(0, 3),  # 3 points vertical offset\n",
    "                     textcoords=\"offset points\",\n",
    "                     ha='center', va='bottom')\n",
    "        \n",
    "    \n",
    "    \n",
    "    plt.show()\n",
    "    \n",
    "    price = a - q1 - q2\n",
    "    print(f\"Unit Price: {price}\")\n",
    "\n",
    "\n",
    "# Create interactive sliders for changing initial values of a, c1, and c2\n",
    "interact(plot_quantity_bar_chart, initial_a=widgets.FloatSlider(value=14, min=0, max=20, step=1), \n",
    "         initial_c1=widgets.FloatSlider(value=5, min=0, max=10, step=1),\n",
    "         initial_c2=widgets.FloatSlider(value=4, min=0, max=10, step=1))"
   ]
  },
  {
   "cell_type": "markdown",
   "metadata": {},
   "source": [
    "# Model Extension"
   ]
  },
  {
   "cell_type": "markdown",
   "metadata": {},
   "source": [
    "As an extension, I will look at how this market is changed if Firm 1 already has a fixed stock of good which it needs to sell."
   ]
  },
  {
   "cell_type": "markdown",
   "metadata": {},
   "source": [
    "**Analytical Solution**"
   ]
  },
  {
   "cell_type": "code",
   "execution_count": 356,
   "metadata": {},
   "outputs": [],
   "source": [
    "p = sm.symbols('p')\n",
    "q = sm.symbols('q')\n",
    "q1 = sm.symbols('q_1')\n",
    "q2 = sm.symbols('q_2')\n",
    "c1 = sm.symbols('c_1')\n",
    "c2 = sm.symbols('c_2')\n",
    "a = sm.symbols('a')\n",
    "s = sm.symbols('s')"
   ]
  },
  {
   "cell_type": "code",
   "execution_count": 357,
   "metadata": {},
   "outputs": [],
   "source": [
    "# Defining objective functions\n",
    "objective1 = p * (s + q1) - c1 * q1\n",
    "objective2 = p * q2 - c2 * q2\n",
    "\n",
    "# Defining price function\n",
    "price_func = sm.Eq(p, a - q)\n",
    "\n",
    "# Defining total quantity function\n",
    "total_q = sm.Eq(q, s + q1 + q2)\n",
    "\n",
    "# Substituting total quantity into the price function\n",
    "price_func1 = price_func.subs(q, total_q.rhs)"
   ]
  },
  {
   "cell_type": "code",
   "execution_count": 358,
   "metadata": {},
   "outputs": [
    {
     "data": {
      "text/latex": [
       "$\\displaystyle - c_{2} q_{2} + q_{2} \\left(a - q_{1} - q_{2} - s\\right)$"
      ],
      "text/plain": [
       "-c_2*q_2 + q_2*(a - q_1 - q_2 - s)"
      ]
     },
     "execution_count": 358,
     "metadata": {},
     "output_type": "execute_result"
    }
   ],
   "source": [
    "# Subsituting the price function into firm 2's objective function\n",
    "objective2_sub = objective2.subs(p, price_func1.rhs)\n",
    "objective2_sub"
   ]
  },
  {
   "cell_type": "code",
   "execution_count": 359,
   "metadata": {},
   "outputs": [
    {
     "data": {
      "text/latex": [
       "$\\displaystyle \\frac{a}{2} - \\frac{c_{2}}{2} - \\frac{q_{1}}{2} - \\frac{s}{2}$"
      ],
      "text/plain": [
       "a/2 - c_2/2 - q_1/2 - s/2"
      ]
     },
     "execution_count": 359,
     "metadata": {},
     "output_type": "execute_result"
    }
   ],
   "source": [
    "# Subsituting the price function into firm 2's objective function\n",
    "objective2_sub = objective2.subs(p, price_func1.rhs)\n",
    "\n",
    "# Differentiating firm 2's objective function wrt q2\n",
    "foc2 = sm.diff(objective2_sub, q2)\n",
    "\n",
    "# Setting the FOC equal to 0 and solving for q2\n",
    "sol_q2 = sm.solve(sm.Eq(foc2, 0), q2)\n",
    "sol_q2[0]"
   ]
  },
  {
   "cell_type": "code",
   "execution_count": 360,
   "metadata": {},
   "outputs": [
    {
     "data": {
      "text/latex": [
       "$\\displaystyle - c_{1} q_{1} + \\left(q_{1} + s\\right) \\left(a - q_{1} - q_{2} - s\\right)$"
      ],
      "text/plain": [
       "-c_1*q_1 + (q_1 + s)*(a - q_1 - q_2 - s)"
      ]
     },
     "execution_count": 360,
     "metadata": {},
     "output_type": "execute_result"
    }
   ],
   "source": [
    "# Substituting the price function into firm 1's objective function\n",
    "objective1_sub = objective1.subs(p, price_func1.rhs)\n",
    "\n",
    "# Substituting firm 2's best response into firm 1's objective function\n",
    "objective1_sub2 = objective1_sub.subs(q2, sol_q2[0])\n",
    "\n",
    "objective1_sub"
   ]
  },
  {
   "cell_type": "code",
   "execution_count": 361,
   "metadata": {},
   "outputs": [
    {
     "data": {
      "text/latex": [
       "$\\displaystyle \\frac{a}{2} - c_{1} + \\frac{c_{2}}{2} - s$"
      ],
      "text/plain": [
       "a/2 - c_1 + c_2/2 - s"
      ]
     },
     "execution_count": 361,
     "metadata": {},
     "output_type": "execute_result"
    }
   ],
   "source": [
    "\n",
    "# Differentiating firm 1's objective function wrt q1\n",
    "foc1 = sm.diff(objective1_sub2, q1)\n",
    "\n",
    "# Setting the FOC equal to 0 and solving for q1\n",
    "sol_q1 = sm.solve(sm.Eq(foc1, 0), q1)\n",
    "sol_q1[0]"
   ]
  },
  {
   "cell_type": "code",
   "execution_count": 362,
   "metadata": {},
   "outputs": [
    {
     "data": {
      "text/latex": [
       "$\\displaystyle \\frac{a}{4} + \\frac{c_{1}}{2} - \\frac{3 c_{2}}{4}$"
      ],
      "text/plain": [
       "a/4 + c_1/2 - 3*c_2/4"
      ]
     },
     "execution_count": 362,
     "metadata": {},
     "output_type": "execute_result"
    }
   ],
   "source": [
    "# Substituting q1 back into q2 to find firm 2's quantity independent of q1\n",
    "sol_q2_final = sol_q2[0].subs(q1, sol_q1[0])\n",
    "sol_q2_final\n",
    "\n"
   ]
  },
  {
   "cell_type": "code",
   "execution_count": 363,
   "metadata": {},
   "outputs": [
    {
     "data": {
      "text/latex": [
       "$\\displaystyle p = \\frac{a}{4} + \\frac{c_{1}}{2} + \\frac{c_{2}}{4}$"
      ],
      "text/plain": [
       "Eq(p, a/4 + c_1/2 + c_2/4)"
      ]
     },
     "execution_count": 363,
     "metadata": {},
     "output_type": "execute_result"
    }
   ],
   "source": [
    "\n",
    "# Subsituting q1 and q2 into the price function the get the market price\n",
    "price_func2 = price_func1.subs(q1, sol_q1[0])\n",
    "price_func3 = price_func2.subs(q2, sol_q2_final)\n",
    "price_func3"
   ]
  },
  {
   "cell_type": "markdown",
   "metadata": {},
   "source": [
    "**Numerical Solution**"
   ]
  },
  {
   "cell_type": "code",
   "execution_count": 383,
   "metadata": {},
   "outputs": [],
   "source": [
    "#Define model-solving function\n",
    "def modelsolving2(a, c1, c2, s):\n",
    "    # Define objective function\n",
    "    def objective_function1(q1, a, c1, c2, s):\n",
    "        return -(-c1*q1 + ((s + q1)/2) * (a + c2 - q1 - s))\n",
    "\n",
    "    # Define an initial guess for q1\n",
    "    initial_guess_q1 = 2.0\n",
    "    bounds = [(0, None)]\n",
    "\n",
    "    # Call the minimize function\n",
    "    result_q1 = optimize.minimize(objective_function1, initial_guess_q1,\n",
    "                            args=(a, c1, c2, s),\n",
    "                            method='SLSQP',\n",
    "                            bounds=bounds,\n",
    "                            options={'disp': False})\n",
    "\n",
    "    # Print the result\n",
    "    #print(result_q1.x[0])\n",
    "    q1 = result_q1.x[0]\n",
    "\n",
    "    def objective_function2(q2, a, c1, c2, q1):\n",
    "        return -(-c2*q2 + q2*(a - q1 - q2))\n",
    "\n",
    "    result_q2 = optimize.minimize(objective_function2, initial_guess_q1,\n",
    "                            args=(a, c1, c2, s+q1),\n",
    "                            method='SLSQP',\n",
    "                            bounds=bounds,\n",
    "                            options={'disp': False})\n",
    "\n",
    "    print(result_q2)\n",
    "\n",
    "    q2 = result_q2.x[0]\n",
    "    price = max(0, a - s - q1 - q2)\n",
    "    \n",
    "    pi1, pi2 = (s + q1) * price - c1 * q1, q2 * price - q2 * c2\n",
    "\n",
    "    return q1, q2, pi1, pi2, price\n"
   ]
  },
  {
   "cell_type": "code",
   "execution_count": 409,
   "metadata": {},
   "outputs": [
    {
     "name": "stdout",
     "output_type": "stream",
     "text": [
      " message: Optimization terminated successfully\n",
      " success: True\n",
      "  status: 0\n",
      "     fun: -9.0\n",
      "       x: [ 3.000e+00]\n",
      "     nit: 2\n",
      "     jac: [ 0.000e+00]\n",
      "    nfev: 5\n",
      "    njev: 2\n",
      "Firm 1 produces 0.0 units and has a profit of 28.0\n",
      "Firm 2 produces 3.0 units and has a profit of 9.0\n",
      "The price of one unit is 7.0\n"
     ]
    }
   ],
   "source": [
    "# Setting Parameters\n",
    "a = 14\n",
    "c1 = 5\n",
    "c2 = 4\n",
    "s = 4 \n",
    "\n",
    "# Solving Model\n",
    "q1, q2, pi1, pi2, price = modelsolving2(a, c1, c2, s)\n",
    "\n",
    "print(f\"Firm 1 produces {q1} units and has a profit of {pi1}\")\n",
    "print(f\"Firm 2 produces {q2} units and has a profit of {pi2}\")\n",
    "print(f\"The price of one unit is {price}\")"
   ]
  },
  {
   "cell_type": "markdown",
   "metadata": {},
   "source": [
    "**Graphical Illustration**"
   ]
  },
  {
   "cell_type": "code",
   "execution_count": 417,
   "metadata": {},
   "outputs": [
    {
     "data": {
      "application/vnd.jupyter.widget-view+json": {
       "model_id": "a082904d32c24e24a27401bb1aa71f83",
       "version_major": 2,
       "version_minor": 0
      },
      "text/plain": [
       "interactive(children=(FloatSlider(value=14.0, description='initial_a', max=20.0, step=1.0), FloatSlider(value=…"
      ]
     },
     "metadata": {},
     "output_type": "display_data"
    },
    {
     "data": {
      "text/plain": [
       "<function __main__.plot_quantity_bar_chart2(initial_a, initial_c1, initial_c2, initial_s)>"
      ]
     },
     "execution_count": 417,
     "metadata": {},
     "output_type": "execute_result"
    }
   ],
   "source": [
    "# Define the function to plot the bar charts\n",
    "def plot_quantity_bar_chart2(initial_a, initial_c1, initial_c2, initial_s):\n",
    "    # Define initial values for a, c1, c2, and s\n",
    "    a = initial_a\n",
    "    c1 = initial_c1\n",
    "    c2 = initial_c2\n",
    "    s = initial_s\n",
    "    \n",
    "    q1, q2, pi1, pi2, price = modelsolving2(a, c1, c2, s)\n",
    "    \n",
    "    fig, (ax1, ax2) = plt.subplots(1, 2, figsize=(12, 6))\n",
    "\n",
    "    # Plot the bar chart for quantities produced by Firm 1 and Firm 2\n",
    "    bars1 = ax1.bar(['Firm 1', 'Firm 2'],  [q1, q2], color=['blue', 'green'])\n",
    "    ax1.set_ylabel('Quantity Produced')\n",
    "    ax1.set_title('Quantities Produced by Firm 1 and Firm 2')\n",
    "\n",
    "    # Set y-axis lower limit to one higher than the maximum of q1 and q2\n",
    "    ax1.set_ylim([0, max(s+q1, q2) + 1])\n",
    "\n",
    "\n",
    "    # Add text labels on top of each bar in the quantity bar chart\n",
    "    for bar in bars1:\n",
    "        height = bar.get_height()\n",
    "        ax1.annotate(f'{height:.2f}', xy=(bar.get_x() + bar.get_width() / 2, height),\n",
    "                     xytext=(0, 3),  # 3 points vertical offset\n",
    "                     textcoords=\"offset points\",\n",
    "                     ha='center', va='bottom')\n",
    "        \n",
    "    # Plot the bar chart for profits of Firm 1 and Firm 2\n",
    "    bars2 = ax2.bar(['Firm 1', 'Firm 2'],  [pi1, pi2], color=['blue', 'green'])\n",
    "    ax2.set_ylabel('Profit')\n",
    "    ax2.set_title('Profits of Firm 1 and Firm 2')\n",
    "    # Set y-axis lower limit to one higher than the maximum of q1 and q2\n",
    "    ax2.set_ylim([0, max(pi1, pi2) + 1])\n",
    "\n",
    "    for bar in bars2:\n",
    "        height = bar.get_height()\n",
    "        ax2.annotate(f'{height:.2f}', xy=(bar.get_x() + bar.get_width() / 2, height),\n",
    "                     xytext=(0, 3),  # 3 points vertical offset\n",
    "                     textcoords=\"offset points\",\n",
    "                     ha='center', va='bottom')\n",
    "    \n",
    "    # Calculate the bottom positions for stacking q1 with s\n",
    "    bottom_positions = [0, s]\n",
    "\n",
    "# Plot q1 stacked with s in two different colors\n",
    "    ax1.bar('Firm 1', s, bottom=bottom_positions[0], color='black', label='s')\n",
    "    ax1.bar('Firm 1', q1, bottom=bottom_positions[1], color='blue', label='q1')\n",
    "    ax1.legend(loc='upper left')\n",
    "\n",
    "    # Add text label showing total height at the top of the bar\n",
    "    total_height = q1 + s\n",
    "    ax1.annotate(f'{total_height:.2f}', xy=('Firm 1', total_height),\n",
    "                 xytext=(0, 3),  # 3 points vertical offset\n",
    "                 textcoords=\"offset points\",\n",
    "                 ha='center', va='bottom')\n",
    "    \n",
    "    plt.show()\n",
    "    print(f\"Unit Price: {price}\")\n",
    "\n",
    "# Create interactive sliders for changing initial values of a, c1, c2, and s\n",
    "interact(plot_quantity_bar_chart2, initial_a=widgets.FloatSlider(value=14, min=0, max=20, step=1), \n",
    "         initial_c1=widgets.FloatSlider(value=5, min=0, max=10, step=1),\n",
    "         initial_c2=widgets.FloatSlider(value=4, min=0, max=10, step=1),\n",
    "         initial_s=widgets.FloatSlider(value=4, min=0, max=20, step=1))\n"
   ]
  },
  {
   "cell_type": "markdown",
   "metadata": {},
   "source": [
    "# Conclusion"
   ]
  },
  {
   "cell_type": "markdown",
   "metadata": {},
   "source": [
    "The analysis of the original Stackelberg game shows that the first-moving firm has an advantage and will produce more and have more profits if the firms have equal marginal costs. However, the marginal costs of the firm seems to have a larger effect on profits than the being the first mover. If Firm 2 has a cost of 1 less than that of Firm 1 then Firm 2's profit will either the very close to Firm 1's or larger.\n",
    "\n",
    "The extension of the model looks at how the economy is affected by Firm 1 having a pre-made stock of the good. The analysis finds that if the stock is smaller than what Firm 1 would have produced the it only affects the profit of Firm 1 positively. This is because the economy is similar to the one before but Firm 1 saves the cost of producing the stock and thus enjoys higher profits. However, if Firm 1's stock is larger than what it otherwise would have produced, then it increases it's own profits but hurts Firm 2 who will produce less and get a lower price. If the stock is large enough, Firm 2 will produce nothing and have no profits.\n",
    "\n",
    "This analysis shows that it could actually be advantageous for a company to have a larger stock in order to scare off competitors. "
   ]
  }
 ],
 "metadata": {
  "kernelspec": {
   "display_name": "base",
   "language": "python",
   "name": "python3"
  },
  "language_info": {
   "codemirror_mode": {
    "name": "ipython",
    "version": 3
   },
   "file_extension": ".py",
   "mimetype": "text/x-python",
   "name": "python",
   "nbconvert_exporter": "python",
   "pygments_lexer": "ipython3",
   "version": "3.11.5"
  },
  "toc-autonumbering": true,
  "vscode": {
   "interpreter": {
    "hash": "47ef90cdf3004d3f859f1fb202523c65c07ba7c22eefd261b181f4744e2d0403"
   }
  }
 },
 "nbformat": 4,
 "nbformat_minor": 4
}
