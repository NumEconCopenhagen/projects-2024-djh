{
 "cells": [
  {
   "cell_type": "markdown",
   "metadata": {},
   "source": [
    "# Inaugural Project"
   ]
  },
  {
   "cell_type": "markdown",
   "metadata": {},
   "source": [
    "Imports and set magics:"
   ]
  },
  {
   "cell_type": "code",
   "execution_count": 4,
   "metadata": {},
   "outputs": [],
   "source": [
    "import numpy as np\n",
    "import matplotlib.pyplot as plt\n",
    "plt.style.use('seaborn-v0_8-whitegrid')\n",
    "from mpl_toolkits.mplot3d import Axes3D\n",
    "from matplotlib import cm # for colormaps\n",
    "\n",
    "# autoreload modules when code is run. Otherwise, python will not see recent changes. \n",
    "%load_ext autoreload\n",
    "%autoreload 2\n",
    "\n",
    "# Import your own code\n",
    "import inauguralproject"
   ]
  },
  {
   "cell_type": "markdown",
   "metadata": {},
   "source": [
    "# Functions"
   ]
  },
  {
   "cell_type": "code",
   "execution_count": 17,
   "metadata": {},
   "outputs": [],
   "source": [
    "# I couldn't get the py file to work so all functions are here instead.\n",
    "def utility(x, alpha):\n",
    "    ### Takes values for x1, x2, and alpha and calculates the utility\n",
    "    x1, x2 = x\n",
    "    u = (x1**(alpha)) * (x2**(1-alpha))\n",
    "    return u\n",
    "\n",
    "def demand_x1(p1, p2, omega1, omega2, alpha):\n",
    "    ### Takes prices, endowments, and alpha and returns the individuals demand for x1\n",
    "    y = (alpha/p1)*(p1*omega1 + p2*omega2)\n",
    "    return y\n",
    "\n",
    "def demand_x2(p1, p2, omega1, omega2, alpha):\n",
    "    ### Takes prices, endowments, and alpha and returns the individuals demand for x2\n",
    "    y = ((1-alpha)/p2)*(p1*omega1 + p2*omega2)\n",
    "    return y\n",
    "\n",
    "def error(x_A, x_B, omega_A, omega_B):\n",
    "    ### Takes the demand and endowments from both individual and calculates the error in the market clearing condition\n",
    "    y = abs(x_A - omega_A + x_B - omega_B)\n",
    "    return y\n",
    "\n",
    "def objective_function_Q3(p1):\n",
    "    ### Takes p1 and calculates the error in the market clearing condition for good 1\n",
    "    x_1A = demand_x1(p1, p2, omega_A1, omega_A2, alpha)\n",
    "    x_1B = demand_x1(p1, p2, omega_B1, omega_B2, beta)\n",
    "    return abs(error(x_1A, x_1B, omega_A1, omega_B1))\n",
    "\n",
    "def objective_function_Q4(p1):\n",
    "    ### Takes p1 and calculates the utility of person A\n",
    "    x_1B = demand_x1(p1, p2, omega_B1, omega_B2, beta)\n",
    "    x_2B = demand_x2(p1, p2, omega_B1, omega_B2, beta)\n",
    "    return -utility((max(0,1-x_1B), max(0,1-x_2B)), alpha)\n",
    "\n",
    "def constraint_func_Q5(x):\n",
    "    ### Takes a set of x1 and x2 and checks whether person B's utility is at least the same as with his endowment\n",
    "    x1_A, x2_A = x[:2]\n",
    "    y = utility((max(0,1-x1_A), max(0,1-x2_A)), beta) - utility((omega_B1, omega_B2), beta)\n",
    "    return y\n",
    "\n",
    "def objective_func_Q5(x):\n",
    "    ### Takes x1 and x2 and calucaltes the utility of person A\n",
    "    x1_A, x2_A = x[:2]\n",
    "    return -utility((x1_A, x2_A), alpha)\n",
    "\n",
    "def totalUtility(x):\n",
    "    ### Takes x1 and x2 for person A and returns the total utility of both person A and B\n",
    "    x1_A, x2_A = x[:2]\n",
    "    y = utility((x1_A, x2_A), alpha) + utility((1-x1_A, 1-x2_A), beta)\n",
    "    return -y\n"
   ]
  },
  {
   "cell_type": "code",
   "execution_count": 13,
   "metadata": {},
   "outputs": [],
   "source": [
    "#Setting Initial Values\n",
    "omega_A1 = 0.8\n",
    "omega_A2 = 0.3\n",
    "omega_B1 = 1 - omega_A1\n",
    "omega_B2 = 1 - omega_A2\n",
    "N = 75\n",
    "p1 = 1.5\n",
    "p2 = 1\n",
    "alpha = 1/3\n",
    "beta = 2/3\n",
    "\n",
    "u_A_0 = utility((omega_A1, omega_A2), alpha) #Calculates endowment utility of person A\n",
    "u_B_0 = utility((omega_B1, omega_B2), beta) #Calculates endowment utility of person B"
   ]
  },
  {
   "cell_type": "markdown",
   "metadata": {},
   "source": [
    "# Question 1"
   ]
  },
  {
   "cell_type": "markdown",
   "metadata": {},
   "source": [
    "**Explain how you solve the model**"
   ]
  },
  {
   "cell_type": "code",
   "execution_count": 14,
   "metadata": {},
   "outputs": [
    {
     "data": {
      "image/png": "[encoded data removed]",
      "text/plain": [
       "<Figure size 800x600 with 1 Axes>"
      ]
     },
     "metadata": {},
     "output_type": "display_data"
    }
   ],
   "source": [
    "# code for solving the model (remember documentation and comments)\n",
    "\n",
    "#Setting Initial Values\n",
    "omega_A1 = 0.8\n",
    "omega_A2 = 0.3\n",
    "omega_B1 = 1 - omega_A1\n",
    "omega_B2 = 1 - omega_A2\n",
    "N = 75\n",
    "p1 = 1.5\n",
    "p2 = 1\n",
    "alpha = 1/3\n",
    "beta = 2/3\n",
    "\n",
    "u_A_0 = utility((omega_A1, omega_A2), alpha) #Calculates endowment utility of person A\n",
    "u_B_0 = utility((omega_B1, omega_B2), beta) #Calculates endowment utility of person B\n",
    "\n",
    "#Creates the NxN grid\n",
    "x1_vec = np.linspace(0,1,N)\n",
    "x2_vec = np.linspace(0,1,N)\n",
    "x1_grid,x2_grid = np.meshgrid(x1_vec,x2_vec,indexing='ij')\n",
    "\n",
    "#Calculates utility for both individuals for all points on the grid\n",
    "u_A_grid = utility((x1_grid,x2_grid), alpha)\n",
    "u_B_grid = utility((1-x1_grid,1-x2_grid), beta)\n",
    "\n",
    "#Checks if both individuals have higher utility than with endowment\n",
    "u_A_grid_check = u_A_grid >= u_A_0\n",
    "u_B_grid_check = u_B_grid >= u_B_0\n",
    "final = np.logical_and(u_A_grid_check, u_B_grid_check)\n",
    "\n",
    "#Creates a figure\n",
    "plt.figure(figsize=(8, 6))\n",
    "plt.scatter(x1_grid[final], x2_grid[final], color='blue')\n",
    "plt.scatter(x1_grid[~final], x2_grid[~final], color='none')\n",
    "plt.xlabel('x1')\n",
    "plt.ylabel('x2')\n",
    "plt.xlim(0, 1)\n",
    "plt.ylim(0, 1) \n",
    "plt.grid(True)\n",
    "plt.show()\n"
   ]
  },
  {
   "cell_type": "markdown",
   "metadata": {},
   "source": [
    "# Question 2"
   ]
  },
  {
   "cell_type": "markdown",
   "metadata": {},
   "source": [
    "Explain your code and procedure"
   ]
  },
  {
   "cell_type": "code",
   "execution_count": 15,
   "metadata": {},
   "outputs": [
    {
     "name": "stdout",
     "output_type": "stream",
     "text": [
      "p1 = 0.5 and error 1 is 0.533333333333333 and error 2 is 0.2666666666666666\n",
      "p1 = 0.527027027027027 and error 1 is 0.4752136752136752 and error 2 is 0.2504504504504504\n",
      "p1 = 0.5540540540540541 and error 1 is 0.4227642276422763 and error 2 is 0.23423423423423412\n",
      "p1 = 0.5810810810810811 and error 1 is 0.3751937984496122 and error 2 is 0.2180180180180178\n",
      "p1 = 0.6081081081081081 and error 1 is 0.33185185185185184 and error 2 is 0.20180180180180163\n",
      "p1 = 0.6351351351351351 and error 1 is 0.29219858156028344 and error 2 is 0.18558558558558547\n",
      "p1 = 0.6621621621621622 and error 1 is 0.25578231292516995 and error 2 is 0.1693693693693693\n",
      "p1 = 0.6891891891891893 and error 1 is 0.22222222222222193 and error 2 is 0.15315315315315303\n",
      "p1 = 0.7162162162162162 and error 1 is 0.1911949685534589 and error 2 is 0.13693693693693687\n",
      "p1 = 0.7432432432432432 and error 1 is 0.1624242424242423 and error 2 is 0.1207207207207206\n",
      "p1 = 0.7702702702702703 and error 1 is 0.1356725146198829 and error 2 is 0.10450450450450433\n",
      "p1 = 0.7972972972972974 and error 1 is 0.11073446327683595 and error 2 is 0.08828828828828805\n",
      "p1 = 0.8243243243243243 and error 1 is 0.08743169398907086 and error 2 is 0.072072072072072\n",
      "p1 = 0.8513513513513513 and error 1 is 0.06560846560846545 and error 2 is 0.05585585585585573\n",
      "p1 = 0.8783783783783784 and error 1 is 0.04512820512820498 and error 2 is 0.03963963963963946\n",
      "p1 = 0.9054054054054055 and error 1 is 0.02587064676616896 and error 2 is 0.023423423423423184\n",
      "p1 = 0.9324324324324325 and error 1 is 0.007729468599033673 and error 2 is 0.007207207207207023\n",
      "p1 = 0.9594594594594594 and error 1 is 0.009389671361502372 and error 2 is 0.009009009009009139\n",
      "p1 = 0.9864864864864865 and error 1 is 0.025570776255707917 and error 2 is 0.0252252252252253\n",
      "p1 = 1.0135135135135136 and error 1 is 0.04088888888888903 and error 2 is 0.041441441441441684\n",
      "p1 = 1.0405405405405406 and error 1 is 0.05541125541125547 and error 2 is 0.057657657657657735\n",
      "p1 = 1.0675675675675675 and error 1 is 0.06919831223628692 and error 2 is 0.07387387387387401\n",
      "p1 = 1.0945945945945947 and error 1 is 0.08230452674897132 and error 2 is 0.09009009009009039\n",
      "p1 = 1.1216216216216217 and error 1 is 0.09477911646586357 and error 2 is 0.10630630630630655\n",
      "p1 = 1.1486486486486487 and error 1 is 0.10666666666666674 and error 2 is 0.1225225225225226\n",
      "p1 = 1.1756756756756757 and error 1 is 0.11800766283524916 and error 2 is 0.13873873873873888\n",
      "p1 = 1.2027027027027026 and error 1 is 0.12883895131086143 and error 2 is 0.15495495495495504\n",
      "p1 = 1.2297297297297298 and error 1 is 0.1391941391941392 and error 2 is 0.17117117117117153\n",
      "p1 = 1.2567567567567568 and error 1 is 0.1491039426523299 and error 2 is 0.18738738738738758\n",
      "p1 = 1.2837837837837838 and error 1 is 0.1585964912280703 and error 2 is 0.20360360360360374\n",
      "p1 = 1.310810810810811 and error 1 is 0.16769759450171845 and error 2 is 0.21981981981982024\n",
      "p1 = 1.337837837837838 and error 1 is 0.1764309764309765 and error 2 is 0.2360360360360363\n",
      "p1 = 1.364864864864865 and error 1 is 0.18481848184818495 and error 2 is 0.25225225225225256\n",
      "p1 = 1.3918918918918919 and error 1 is 0.19288025889967647 and error 2 is 0.2684684684684686\n",
      "p1 = 1.4189189189189189 and error 1 is 0.20063492063492067 and error 2 is 0.2846846846846849\n",
      "p1 = 1.445945945945946 and error 1 is 0.2080996884735204 and error 2 is 0.30090090090090116\n",
      "p1 = 1.472972972972973 and error 1 is 0.215290519877676 and error 2 is 0.31711711711711743\n",
      "p1 = 1.5 and error 1 is 0.22222222222222227 and error 2 is 0.3333333333333335\n",
      "p1 = 1.5270270270270272 and error 1 is 0.22890855457227144 and error 2 is 0.34954954954954975\n",
      "p1 = 1.5540540540540542 and error 1 is 0.23536231884057984 and error 2 is 0.36576576576576625\n",
      "p1 = 1.5810810810810811 and error 1 is 0.24159544159544172 and error 2 is 0.3819819819819823\n",
      "p1 = 1.6081081081081081 and error 1 is 0.24761904761904774 and error 2 is 0.39819819819819835\n",
      "p1 = 1.635135135135135 and error 1 is 0.25344352617079885 and error 2 is 0.4144144144144146\n",
      "p1 = 1.6621621621621623 and error 1 is 0.25907859078590795 and error 2 is 0.4306306306306309\n",
      "p1 = 1.6891891891891893 and error 1 is 0.2645333333333335 and error 2 is 0.44684684684684717\n",
      "p1 = 1.7162162162162162 and error 1 is 0.26981627296587923 and error 2 is 0.46306306306306344\n",
      "p1 = 1.7432432432432434 and error 1 is 0.274935400516796 and error 2 is 0.4792792792792795\n",
      "p1 = 1.7702702702702704 and error 1 is 0.2798982188295166 and error 2 is 0.49549549549549576\n",
      "p1 = 1.7972972972972974 and error 1 is 0.2847117794486216 and error 2 is 0.511711711711712\n",
      "p1 = 1.8243243243243243 and error 1 is 0.28938271604938276 and error 2 is 0.5279279279279281\n",
      "p1 = 1.8513513513513513 and error 1 is 0.29391727493917275 and error 2 is 0.5441441441441441\n",
      "p1 = 1.8783783783783785 and error 1 is 0.2983213429256596 and error 2 is 0.5603603603603606\n",
      "p1 = 1.9054054054054055 and error 1 is 0.3026004728132389 and error 2 is 0.5765765765765767\n",
      "p1 = 1.9324324324324325 and error 1 is 0.3067599067599068 and error 2 is 0.5927927927927932\n",
      "p1 = 1.9594594594594597 and error 1 is 0.31080459770114954 and error 2 is 0.6090090090090094\n",
      "p1 = 1.9864864864864866 and error 1 is 0.3147392290249434 and error 2 is 0.6252252252252255\n",
      "p1 = 2.0135135135135136 and error 1 is 0.31856823266219253 and error 2 is 0.6414414414414418\n",
      "p1 = 2.0405405405405403 and error 1 is 0.32229580573951444 and error 2 is 0.6576576576576578\n",
      "p1 = 2.0675675675675675 and error 1 is 0.325925925925926 and error 2 is 0.6738738738738741\n",
      "p1 = 2.0945945945945947 and error 1 is 0.32946236559139797 and error 2 is 0.6900900900900904\n",
      "p1 = 2.121621621621622 and error 1 is 0.33290870488322727 and error 2 is 0.7063063063063069\n",
      "p1 = 2.1486486486486487 and error 1 is 0.33626834381551374 and error 2 is 0.7225225225225227\n",
      "p1 = 2.175675675675676 and error 1 is 0.33954451345755704 and error 2 is 0.738738738738739\n",
      "p1 = 2.2027027027027026 and error 1 is 0.3427402862985685 and error 2 is 0.754954954954955\n",
      "p1 = 2.22972972972973 and error 1 is 0.3458585858585859 and error 2 is 0.7711711711711715\n",
      "p1 = 2.256756756756757 and error 1 is 0.34890219560878266 and error 2 is 0.7873873873873876\n",
      "p1 = 2.2837837837837838 and error 1 is 0.35187376725838276 and error 2 is 0.8036036036036036\n",
      "p1 = 2.310810810810811 and error 1 is 0.3547758284600391 and error 2 is 0.8198198198198201\n",
      "p1 = 2.3378378378378377 and error 1 is 0.35761078998073226 and error 2 is 0.8360360360360362\n",
      "p1 = 2.364864864864865 and error 1 is 0.3603809523809525 and error 2 is 0.8522522522522524\n",
      "p1 = 2.391891891891892 and error 1 is 0.36308851224105465 and error 2 is 0.8684684684684687\n",
      "p1 = 2.4189189189189193 and error 1 is 0.36573556797020496 and error 2 is 0.8846846846846852\n",
      "p1 = 2.445945945945946 and error 1 is 0.36832412523020264 and error 2 is 0.9009009009009012\n",
      "p1 = 2.472972972972973 and error 1 is 0.370856102003643 and error 2 is 0.9171171171171173\n",
      "p1 = 2.5 and error 1 is 0.3733333333333334 and error 2 is 0.9333333333333333\n"
     ]
    }
   ],
   "source": [
    "p1_grid = np.linspace(0.5, 2.5, N) #Creates the possible values of p1\n",
    "\n",
    "\n",
    "\n",
    "for p1 in p1_grid:\n",
    "    ### Loops through values of p1 and calculates demand and the error in the market clearing\n",
    "    x_1A = demand_x1(p1, p2, omega_A1, omega_A2, alpha)\n",
    "    x_2A = demand_x2(p1, p2, omega_A1, omega_A2, alpha)\n",
    "    x_1B = demand_x1(p1, p2, omega_B1, omega_B2, beta)\n",
    "    x_2B = demand_x2(p1, p2, omega_B1, omega_B2, beta)\n",
    "    y1 = error(x_1A, x_1B, omega_A1, omega_B1)\n",
    "    y2 = error(x_2A, x_2B, omega_A2, omega_B2)\n",
    "    print(f\"p1 = {p1} and error 1 is {y1} and error 2 is {y2}\")"
   ]
  },
  {
   "cell_type": "markdown",
   "metadata": {},
   "source": [
    "# Question 3"
   ]
  },
  {
   "cell_type": "markdown",
   "metadata": {},
   "source": [
    "Explain your code and procedure"
   ]
  },
  {
   "cell_type": "code",
   "execution_count": 18,
   "metadata": {},
   "outputs": [
    {
     "name": "stdout",
     "output_type": "stream",
     "text": [
      "[0.94445801]\n",
      "[0.3725475]\n",
      "[0.70371094]\n"
     ]
    }
   ],
   "source": [
    "from scipy import optimize\n",
    "\n",
    "#Finds the optimal value for p1 to minimize the error\n",
    "p1_guess = 0.75\n",
    "res = optimize.minimize(objective_function_Q3, p1_guess, method = \"Nelder-Mead\")\n",
    "print(res.x)\n",
    "\n",
    "#Defining values for 6b\n",
    "Q3_x1A = demand_x1(res.x, p2, omega_A1, omega_A2, alpha) #Calculates x1 with the optimal price\n",
    "Q3_x2A = demand_x2(res.x, p2, omega_A1, omega_A2, alpha) #Calculates x2 with the optimal price\n",
    "print(Q3_x1A)\n",
    "print(Q3_x2A)\n"
   ]
  },
  {
   "cell_type": "markdown",
   "metadata": {},
   "source": [
    "With the initial values set, the market clears with a price of 0.94. This gives individual A 0.37 units of x1 and 0.7 units of x2. Thus a lot of trading takes place since individual A starts with 0.8 units of x1 and 0.3 units of x2. It makes sense because individual A values x2 higher and individual B values x1 higher."
   ]
  },
  {
   "cell_type": "markdown",
   "metadata": {},
   "source": [
    "# Question 4a"
   ]
  },
  {
   "cell_type": "code",
   "execution_count": null,
   "metadata": {},
   "outputs": [
    {
     "name": "stdout",
     "output_type": "stream",
     "text": [
      "Optimal price: 1.9054054054054055\n",
      "Person A utility 0.6336197517392991\n"
     ]
    }
   ],
   "source": [
    "#Setting initial values\n",
    "p1_best, u_best = -1,-1\n",
    "x1_A_best, x2_A_best = 0, 0\n",
    "\n",
    "#Looping through grid, calculating utility and checking if it is the best so far\n",
    "for p1 in p1_grid:\n",
    "    x_1B = demand_x1(p1, p2, omega_B1, omega_B2, beta)\n",
    "    x_2B = demand_x2(p1, p2, omega_B1, omega_B2, beta)\n",
    "    u = utility((max(0, 1-x_1B), max(0,1-x_2B)), alpha)\n",
    "    if u >= u_best: #Updating if it is best so far\n",
    "        u_best = u\n",
    "        p1_best = p1\n",
    "        x1_A_best = 1-x_1B\n",
    "        x2_A_best = 1-x_2B\n",
    "\n",
    "print(f\"Optimal price: {p1_best}\")\n",
    "print(f\"Person A utility {u_best}\")\n",
    "\n",
    "#Defining values for 6b\n",
    "Q4_x1A = x1_A_best\n",
    "Q4_x2A = x2_A_best"
   ]
  },
  {
   "cell_type": "markdown",
   "metadata": {},
   "source": [
    "# Question 4b"
   ]
  },
  {
   "cell_type": "code",
   "execution_count": null,
   "metadata": {},
   "outputs": [
    {
     "name": "stdout",
     "output_type": "stream",
     "text": [
      "[1.89936523]\n",
      "[0.62097055]\n",
      "[0.64004232]\n"
     ]
    }
   ],
   "source": [
    "p1_guess = 1.75\n",
    "res = optimize.minimize(objective_function_Q4,p1_guess, method = \"Nelder-Mead\")\n",
    "print(res.x)\n",
    "\n",
    "Q4b_x1A = 1 - demand_x1(res.x, p2, omega_B1, omega_B2, beta)\n",
    "Q4b_x2A = 1 - demand_x2(res.x, p2, omega_B1, omega_B2, beta)\n",
    "\n",
    "print(Q4b_x1A)\n",
    "print(Q4b_x2A)"
   ]
  },
  {
   "cell_type": "markdown",
   "metadata": {},
   "source": [
    "# Question 5a"
   ]
  },
  {
   "cell_type": "code",
   "execution_count": null,
   "metadata": {},
   "outputs": [
    {
     "name": "stdout",
     "output_type": "stream",
     "text": [
      "0.56\n",
      "0.8533333333333334\n",
      "0.7415523509091093\n"
     ]
    }
   ],
   "source": [
    "u_best, x1_A_best, x2_A_best = 0,0,0\n",
    "for i in range(0,N+1): \n",
    "    for j in range(0, N+1):\n",
    "        if utility((1-i/N, 1-j/N),beta) >= utility((omega_B1, omega_B2), beta):\n",
    "            if utility((i/N, j/N), alpha) > u_best:\n",
    "                u_best = utility((i/N, j/N), alpha)\n",
    "                x1_A_best = i/N\n",
    "                x2_A_best = j/N\n",
    "\n",
    "\n",
    "print(x1_A_best)\n",
    "print(x2_A_best)\n",
    "print(u_best)"
   ]
  },
  {
   "cell_type": "markdown",
   "metadata": {},
   "source": [
    "# Question 5b"
   ]
  },
  {
   "cell_type": "code",
   "execution_count": null,
   "metadata": {},
   "outputs": [
    {
     "name": "stdout",
     "output_type": "stream",
     "text": [
      "Optimized allocation for person A: [0.57574412 0.84443853]\n",
      "Utility: 0.7432276587014279\n"
     ]
    }
   ],
   "source": [
    "guess = [0.5, 0.8]\n",
    "\n",
    "constraints = {'type': 'ineq', 'fun': constraint_func_Q5}\n",
    "bounds = [(0, 1), (0, 1)]\n",
    "\n",
    "result = optimize.minimize(objective_func_Q5, guess, constraints=constraints, bounds=bounds)\n",
    "\n",
    "optimized_allocation = result.x[:2]\n",
    "\n",
    "print(\"Optimized allocation for person A:\", optimized_allocation)\n",
    "print(f\"Utility: {utility((result.x[0], result.x[1]), alpha)}\")\n",
    "\n",
    "Q5_x1, Q5_x2 = result.x[:2]\n"
   ]
  },
  {
   "cell_type": "markdown",
   "metadata": {},
   "source": [
    "# Question 6a"
   ]
  },
  {
   "cell_type": "code",
   "execution_count": null,
   "metadata": {},
   "outputs": [
    {
     "name": "stdout",
     "output_type": "stream",
     "text": [
      "[0.33333391 0.66666604]\n"
     ]
    }
   ],
   "source": [
    "#Calculating optimal distribution of goods from social view\n",
    "bounds = [(0, 1), (0, 1)]\n",
    "guess = (0.6, 0.4)\n",
    "res = optimize.minimize(totalUtility, guess, bounds=bounds)\n",
    "print(res.x)\n",
    "Q6_x1, Q6_x2 = res.x[:2]"
   ]
  },
  {
   "cell_type": "markdown",
   "metadata": {},
   "source": [
    "# Question 6b"
   ]
  },
  {
   "cell_type": "code",
   "execution_count": null,
   "metadata": {},
   "outputs": [
    {
     "data": {
      "image/png": "[encoded data removed]",
      "text/plain": [
       "<Figure size 800x600 with 1 Axes>"
      ]
     },
     "metadata": {},
     "output_type": "display_data"
    }
   ],
   "source": [
    "#Creating figure\n",
    "plt.figure(figsize=(8, 6))\n",
    "plt.scatter(Q3_x1A, Q3_x2A, color='Red', label = \"Question 3\")\n",
    "plt.scatter(Q4b_x1A, Q4b_x2A, color='blue', label = \"Question 4\")\n",
    "plt.scatter(Q5_x1, Q5_x2, color='Green', label = \"Question 5\")\n",
    "plt.scatter(Q6_x1, Q6_x2, color='Pink', label = \"Question 6\")\n",
    "plt.legend()\n",
    "plt.xlabel('x1_A')\n",
    "plt.ylabel('x2_A')\n",
    "plt.xlim(0, 1)\n",
    "plt.ylim(0, 1) \n",
    "plt.grid(True)\n",
    "plt.show()"
   ]
  },
  {
   "cell_type": "markdown",
   "metadata": {},
   "source": [
    "The allocation in question 6 gives the largest total utility for society. However, this does not take any equality into account. In this case, the utility functions are such that the individuals are equal but this is not the case for all utility functions. Question 3 solves through the market and thus makes people trade if it increases their utility. A downside to this is that the initial endowment will play a big role in how much utility an individual will end up with. Question 4 allows individual A to choose a price. This is obviously an unfair advantage for individual A but has the benefit that both individuals are free to trade if they want and the trades will increase utility. Lastly, Question 5 solves by letting individual A choose consumption as long as B isn't worse off. This allows individual A to take all the surplus from any \"trading\""
   ]
  },
  {
   "cell_type": "markdown",
   "metadata": {},
   "source": [
    "# Question 7"
   ]
  },
  {
   "cell_type": "code",
   "execution_count": null,
   "metadata": {},
   "outputs": [
    {
     "data": {
      "image/png": "[encoded data removed]",
      "text/plain": [
       "<Figure size 800x600 with 1 Axes>"
      ]
     },
     "metadata": {},
     "output_type": "display_data"
    }
   ],
   "source": [
    "#Drawing random numbers and assigning them to lists\n",
    "np.random.seed(12)\n",
    "w = np.random.uniform(size = 50)\n",
    "v = np.random.uniform(size = 50)\n",
    "#print(w)\n",
    "#print(v)\n",
    "\n",
    "#Creating figure\n",
    "plt.figure(figsize=(8, 6))\n",
    "plt.scatter(w, v, color='blue')\n",
    "plt.xlabel('x1_A')\n",
    "plt.ylabel('x2_A')\n",
    "plt.xlim(0, 1)\n",
    "plt.ylim(0, 1) \n",
    "plt.grid(True)\n",
    "plt.show()"
   ]
  },
  {
   "cell_type": "markdown",
   "metadata": {},
   "source": [
    "# Question 8"
   ]
  },
  {
   "cell_type": "code",
   "execution_count": null,
   "metadata": {},
   "outputs": [
    {
     "data": {
      "image/png": "[encoded data removed]",
      "text/plain": [
       "<Figure size 800x600 with 1 Axes>"
      ]
     },
     "metadata": {},
     "output_type": "display_data"
    }
   ],
   "source": [
    "x1 = np.zeros(50)\n",
    "x2 = np.zeros(50)\n",
    "\n",
    "#Calculating equilibrium for each of the 50 random draws\n",
    "for i in range(0,50):\n",
    "    p1_guess = 0.75\n",
    "    omega_A1 = w[i]\n",
    "    omega_A2 = v[i]\n",
    "    omega_B1 = 1-w[i]\n",
    "    omega_B2 = 1-v[i]\n",
    "    res = optimize.minimize(objective_function_Q3, p1_guess, method = \"Nelder-Mead\")\n",
    "    #print(res.x)\n",
    "    x1[i] = demand_x1(res.x, p2, omega_A1, omega_A2, alpha)\n",
    "    x2[i] = demand_x2(res.x, p2, omega_A1, omega_A2, alpha)\n",
    "    \n",
    "\n",
    "#Creating figure\n",
    "plt.figure(figsize=(8, 6))\n",
    "plt.scatter(x1, x2, color='blue')\n",
    "plt.xlabel('x1_A')\n",
    "plt.ylabel('x2_A')\n",
    "plt.xlim(0, 1)\n",
    "plt.ylim(0, 1) \n",
    "plt.grid(True)\n",
    "plt.show()"
   ]
  }
 ],
 "metadata": {
  "kernelspec": {
   "display_name": "base",
   "language": "python",
   "name": "python3"
  },
  "language_info": {
   "codemirror_mode": {
    "name": "ipython",
    "version": 3
   },
   "file_extension": ".py",
   "mimetype": "text/x-python",
   "name": "python",
   "nbconvert_exporter": "python",
   "pygments_lexer": "ipython3",
   "version": "3.11.5"
  },
  "toc-autonumbering": true,
  "vscode": {
   "interpreter": {
    "hash": "47ef90cdf3004d3f859f1fb202523c65c07ba7c22eefd261b181f4744e2d0403"
   }
  }
 },
 "nbformat": 4,
 "nbformat_minor": 4
}
